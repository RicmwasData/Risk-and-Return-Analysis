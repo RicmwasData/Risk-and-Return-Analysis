{
 "cells": [
  {
   "cell_type": "code",
   "execution_count": 30,
   "id": "93978f28-4c34-4407-a3c4-22dcd6565654",
   "metadata": {},
   "outputs": [],
   "source": [
    "#impor the libabries \n",
    "import numpy as np\n",
    "import pandas as pd\n",
    "import yfinance as yf\n",
    "import pandas_datareader as pdr\n",
    "import seaborn as sns\n",
    "from datetime import datetime\n",
    "from scipy.optimize import minimize\n"
   ]
  },
  {
   "cell_type": "code",
   "execution_count": null,
   "id": "3935eb4f-9654-43fe-9ce4-45404d6a3e82",
   "metadata": {},
   "outputs": [],
   "source": []
  },
  {
   "cell_type": "code",
   "execution_count": 2,
   "id": "f70e8beb-80ed-4321-b42f-b5e891f4c24f",
   "metadata": {},
   "outputs": [
    {
     "name": "stderr",
     "output_type": "stream",
     "text": [
      "[*********************100%%**********************]  4 of 4 completed\n"
     ]
    }
   ],
   "source": [
    "# Define the stocks and the index\n",
    "stocks = ['DFS', 'GIS', 'GILD', '^GSPC']\n",
    "\n",
    "# Define the date range\n",
    "start_date = '2014-01-01'\n",
    "end_date = '2024-01-01'\n",
    "\n",
    "# Download the historical data\n",
    "data = yf.download(stocks, start=start_date, end=end_date)['Adj Close']\n",
    "\n",
    "# Fetch 3-month Treasury bill data from FRED\n",
    "risk_free_rate_data = pdr.get_data_fred('TB3MS', start='2014-01-01', end='2024-01-01')\n",
    "# Rename the column to 'Risk-Free Rate'\n",
    "risk_free_rate_data.columns = ['Risk-Free Rate']\n"
   ]
  },
  {
   "cell_type": "code",
   "execution_count": 3,
   "id": "3292edb3-d0ec-4155-9f64-91dd8c35b2aa",
   "metadata": {},
   "outputs": [
    {
     "data": {
      "text/html": [
       "<div>\n",
       "<style scoped>\n",
       "    .dataframe tbody tr th:only-of-type {\n",
       "        vertical-align: middle;\n",
       "    }\n",
       "\n",
       "    .dataframe tbody tr th {\n",
       "        vertical-align: top;\n",
       "    }\n",
       "\n",
       "    .dataframe thead th {\n",
       "        text-align: right;\n",
       "    }\n",
       "</style>\n",
       "<table border=\"1\" class=\"dataframe\">\n",
       "  <thead>\n",
       "    <tr style=\"text-align: right;\">\n",
       "      <th>Ticker</th>\n",
       "      <th>DFS</th>\n",
       "      <th>GILD</th>\n",
       "      <th>GIS</th>\n",
       "      <th>^GSPC</th>\n",
       "    </tr>\n",
       "    <tr>\n",
       "      <th>Date</th>\n",
       "      <th></th>\n",
       "      <th></th>\n",
       "      <th></th>\n",
       "      <th></th>\n",
       "    </tr>\n",
       "  </thead>\n",
       "  <tbody>\n",
       "    <tr>\n",
       "      <th>2014-01-02</th>\n",
       "      <td>44.361240</td>\n",
       "      <td>55.341145</td>\n",
       "      <td>34.761028</td>\n",
       "      <td>1831.979980</td>\n",
       "    </tr>\n",
       "    <tr>\n",
       "      <th>2014-01-03</th>\n",
       "      <td>44.128841</td>\n",
       "      <td>54.686272</td>\n",
       "      <td>34.662506</td>\n",
       "      <td>1831.369995</td>\n",
       "    </tr>\n",
       "    <tr>\n",
       "      <th>2014-01-06</th>\n",
       "      <td>43.559910</td>\n",
       "      <td>53.891579</td>\n",
       "      <td>34.718811</td>\n",
       "      <td>1826.770020</td>\n",
       "    </tr>\n",
       "    <tr>\n",
       "      <th>2014-01-07</th>\n",
       "      <td>43.856377</td>\n",
       "      <td>53.553097</td>\n",
       "      <td>35.077667</td>\n",
       "      <td>1837.880005</td>\n",
       "    </tr>\n",
       "    <tr>\n",
       "      <th>2014-01-08</th>\n",
       "      <td>43.880428</td>\n",
       "      <td>54.053467</td>\n",
       "      <td>34.439526</td>\n",
       "      <td>1837.489990</td>\n",
       "    </tr>\n",
       "  </tbody>\n",
       "</table>\n",
       "</div>"
      ],
      "text/plain": [
       "Ticker            DFS       GILD        GIS        ^GSPC\n",
       "Date                                                    \n",
       "2014-01-02  44.361240  55.341145  34.761028  1831.979980\n",
       "2014-01-03  44.128841  54.686272  34.662506  1831.369995\n",
       "2014-01-06  43.559910  53.891579  34.718811  1826.770020\n",
       "2014-01-07  43.856377  53.553097  35.077667  1837.880005\n",
       "2014-01-08  43.880428  54.053467  34.439526  1837.489990"
      ]
     },
     "execution_count": 3,
     "metadata": {},
     "output_type": "execute_result"
    }
   ],
   "source": [
    "data.head()"
   ]
  },
  {
   "cell_type": "code",
   "execution_count": null,
   "id": "4f5c6540-c54e-4b99-a42b-bb0c915abcb7",
   "metadata": {},
   "outputs": [],
   "source": []
  },
  {
   "cell_type": "markdown",
   "id": "408cb6d7-1ce5-4a52-90dd-02f350eb3c65",
   "metadata": {},
   "source": [
    "### Table 1 "
   ]
  },
  {
   "cell_type": "code",
   "execution_count": 4,
   "id": "2223ca22-6624-4b9c-baff-de3e08b8ecde",
   "metadata": {},
   "outputs": [
    {
     "data": {
      "text/html": [
       "<div>\n",
       "<style scoped>\n",
       "    .dataframe tbody tr th:only-of-type {\n",
       "        vertical-align: middle;\n",
       "    }\n",
       "\n",
       "    .dataframe tbody tr th {\n",
       "        vertical-align: top;\n",
       "    }\n",
       "\n",
       "    .dataframe thead th {\n",
       "        text-align: right;\n",
       "    }\n",
       "</style>\n",
       "<table border=\"1\" class=\"dataframe\">\n",
       "  <thead>\n",
       "    <tr style=\"text-align: right;\">\n",
       "      <th></th>\n",
       "      <th>Average Return</th>\n",
       "      <th>Std</th>\n",
       "      <th>Sharpe_Ratio</th>\n",
       "      <th>Correlaratio_s&amp;p500</th>\n",
       "    </tr>\n",
       "    <tr>\n",
       "      <th>Ticker</th>\n",
       "      <th></th>\n",
       "      <th></th>\n",
       "      <th></th>\n",
       "      <th></th>\n",
       "    </tr>\n",
       "  </thead>\n",
       "  <tbody>\n",
       "    <tr>\n",
       "      <th>DFS</th>\n",
       "      <td>0.163083</td>\n",
       "      <td>0.372408</td>\n",
       "      <td>-3.095262</td>\n",
       "      <td>0.692700</td>\n",
       "    </tr>\n",
       "    <tr>\n",
       "      <th>GILD</th>\n",
       "      <td>0.072631</td>\n",
       "      <td>0.266081</td>\n",
       "      <td>-4.672092</td>\n",
       "      <td>0.443975</td>\n",
       "    </tr>\n",
       "    <tr>\n",
       "      <th>GIS</th>\n",
       "      <td>0.082557</td>\n",
       "      <td>0.206414</td>\n",
       "      <td>-5.974535</td>\n",
       "      <td>0.347608</td>\n",
       "    </tr>\n",
       "    <tr>\n",
       "      <th>^GSPC</th>\n",
       "      <td>0.111697</td>\n",
       "      <td>0.177378</td>\n",
       "      <td>-6.788243</td>\n",
       "      <td>1.000000</td>\n",
       "    </tr>\n",
       "  </tbody>\n",
       "</table>\n",
       "</div>"
      ],
      "text/plain": [
       "        Average Return       Std  Sharpe_Ratio  Correlaratio_s&p500\n",
       "Ticker                                                             \n",
       "DFS           0.163083  0.372408     -3.095262             0.692700\n",
       "GILD          0.072631  0.266081     -4.672092             0.443975\n",
       "GIS           0.082557  0.206414     -5.974535             0.347608\n",
       "^GSPC         0.111697  0.177378     -6.788243             1.000000"
      ]
     },
     "execution_count": 4,
     "metadata": {},
     "output_type": "execute_result"
    }
   ],
   "source": [
    "# Calculate the daily returns\n",
    "returns = data.pct_change()\n",
    "\n",
    "# Calculate the annual average return\n",
    "average_returns = returns.mean() * 252\n",
    "\n",
    "# Calculate the standard deviation\n",
    "std_dev = returns.std() * np.sqrt(252)\n",
    "\n",
    "# Define the risk free rate\n",
    "risk_free_rate = risk_free_rate_data.mean()[0] # replace with the actual rate\n",
    "\n",
    "# Calculate the Sharpe ratio\n",
    "sharpe_ratio = (average_returns - risk_free_rate) / std_dev\n",
    "\n",
    "# Calculate the correlation coefficient with the S&P500\n",
    "correlation = returns.corrwith(returns['^GSPC'])\n",
    "\n",
    "t1=pd.DataFrame({'Average Return': average_returns,\n",
    "              'Std': std_dev,\n",
    "              'Sharpe_Ratio': sharpe_ratio,\n",
    "              'Correlaratio_s&p500': correlation})\n",
    "t1\n"
   ]
  },
  {
   "cell_type": "code",
   "execution_count": 5,
   "id": "94a1f41d-c75c-4155-8898-a4a3e64dedfa",
   "metadata": {},
   "outputs": [
    {
     "data": {
      "text/html": [
       "<div>\n",
       "<style scoped>\n",
       "    .dataframe tbody tr th:only-of-type {\n",
       "        vertical-align: middle;\n",
       "    }\n",
       "\n",
       "    .dataframe tbody tr th {\n",
       "        vertical-align: top;\n",
       "    }\n",
       "\n",
       "    .dataframe thead th {\n",
       "        text-align: right;\n",
       "    }\n",
       "</style>\n",
       "<table border=\"1\" class=\"dataframe\">\n",
       "  <thead>\n",
       "    <tr style=\"text-align: right;\">\n",
       "      <th>Ticker</th>\n",
       "      <th>DFS</th>\n",
       "      <th>GILD</th>\n",
       "      <th>GIS</th>\n",
       "      <th>^GSPC</th>\n",
       "    </tr>\n",
       "    <tr>\n",
       "      <th>Ticker</th>\n",
       "      <th></th>\n",
       "      <th></th>\n",
       "      <th></th>\n",
       "      <th></th>\n",
       "    </tr>\n",
       "  </thead>\n",
       "  <tbody>\n",
       "    <tr>\n",
       "      <th>DFS</th>\n",
       "      <td>1.000000</td>\n",
       "      <td>0.240461</td>\n",
       "      <td>0.131604</td>\n",
       "      <td>0.692700</td>\n",
       "    </tr>\n",
       "    <tr>\n",
       "      <th>GILD</th>\n",
       "      <td>0.240461</td>\n",
       "      <td>1.000000</td>\n",
       "      <td>0.261650</td>\n",
       "      <td>0.443975</td>\n",
       "    </tr>\n",
       "    <tr>\n",
       "      <th>GIS</th>\n",
       "      <td>0.131604</td>\n",
       "      <td>0.261650</td>\n",
       "      <td>1.000000</td>\n",
       "      <td>0.347608</td>\n",
       "    </tr>\n",
       "    <tr>\n",
       "      <th>^GSPC</th>\n",
       "      <td>0.692700</td>\n",
       "      <td>0.443975</td>\n",
       "      <td>0.347608</td>\n",
       "      <td>1.000000</td>\n",
       "    </tr>\n",
       "  </tbody>\n",
       "</table>\n",
       "</div>"
      ],
      "text/plain": [
       "Ticker       DFS      GILD       GIS     ^GSPC\n",
       "Ticker                                        \n",
       "DFS     1.000000  0.240461  0.131604  0.692700\n",
       "GILD    0.240461  1.000000  0.261650  0.443975\n",
       "GIS     0.131604  0.261650  1.000000  0.347608\n",
       "^GSPC   0.692700  0.443975  0.347608  1.000000"
      ]
     },
     "execution_count": 5,
     "metadata": {},
     "output_type": "execute_result"
    }
   ],
   "source": [
    "returns.corr()"
   ]
  },
  {
   "cell_type": "code",
   "execution_count": 29,
   "id": "4726d174",
   "metadata": {},
   "outputs": [
    {
     "ename": "NameError",
     "evalue": "name 'sn' is not defined",
     "output_type": "error",
     "traceback": [
      "\u001b[0;31m---------------------------------------------------------------------------\u001b[0m",
      "\u001b[0;31mNameError\u001b[0m                                 Traceback (most recent call last)",
      "Cell \u001b[0;32mIn[29], line 3\u001b[0m\n\u001b[1;32m      1\u001b[0m \u001b[38;5;66;03m#Correlation matrix \u001b[39;00m\n\u001b[1;32m      2\u001b[0m plt\u001b[38;5;241m.\u001b[39mfigure(figsize\u001b[38;5;241m=\u001b[39m(\u001b[38;5;241m10\u001b[39m, \u001b[38;5;241m7\u001b[39m))\n\u001b[0;32m----> 3\u001b[0m \u001b[43msn\u001b[49m\u001b[38;5;241m.\u001b[39mheatmap(returns\u001b[38;5;241m.\u001b[39mcorr(), annot\u001b[38;5;241m=\u001b[39m\u001b[38;5;28;01mTrue\u001b[39;00m)\n\u001b[1;32m      5\u001b[0m plt\u001b[38;5;241m.\u001b[39mshow()\n",
      "\u001b[0;31mNameError\u001b[0m: name 'sn' is not defined"
     ]
    },
    {
     "data": {
      "text/plain": [
       "<Figure size 1000x700 with 0 Axes>"
      ]
     },
     "metadata": {},
     "output_type": "display_data"
    }
   ],
   "source": [
    "#Correlation matrix \n",
    "plt.figure(figsize=(10, 7))\n",
    "sns.heatmap(returns.corr(), annot=True)\n",
    "\n",
    "plt.show()"
   ]
  },
  {
   "cell_type": "code",
   "execution_count": 6,
   "id": "76897a1d-bece-4664-bd1e-a8b20b250b30",
   "metadata": {},
   "outputs": [
    {
     "data": {
      "image/png": "[encoded data removed]",
      "text/plain": [
       "<Figure size 1000x700 with 1 Axes>"
      ]
     },
     "metadata": {},
     "output_type": "display_data"
    }
   ],
   "source": [
    "import matplotlib.pyplot as plt\n",
    "\n",
    "# Calculate the normalized returns\n",
    "normalized_returns = (data / data.iloc[0])\n",
    "\n",
    "plt.figure(figsize=(8, 6))\n",
    "for i in normalized_returns.columns.values:\n",
    "    plt.plot(normalized_returns.index, normalized_returns[i], lw=2, alpha=0.8,label=i)\n",
    "plt.legend(loc='upper left', fontsize=12)\n",
    "plt.ylabel('Normalized Returns')\n",
    "plt.show()"
   ]
  },
  {
   "cell_type": "markdown",
   "id": "ea076c2d-88cd-465c-8762-21eeaa92aee9",
   "metadata": {},
   "source": [
    "# Part 2"
   ]
  },
  {
   "cell_type": "code",
   "execution_count": 7,
   "id": "a0e9ffea-26c1-433b-a55d-d412fd5e3ccf",
   "metadata": {},
   "outputs": [],
   "source": [
    "# Load the data\n",
    "esg_data = pd.read_excel('ESG Data 2023 Selection 4 copy.xlsx')\n",
    "ticker= ['DFS','GILD','GIS','^GSPC']\n",
    "esg_data= esg_data[esg_data['ticker'].isin(ticker)]\n",
    "esg_data= esg_data[['isin', 'year', 'ticker','fieldname',\n",
    "                    'valuedate','value','valuescore']]\n",
    "\n",
    "\n",
    "climate_data = pd.read_excel('firmyear_score_2022Q4_Version_2023_Oct_31 copy.xlsx')\n",
    "climate_data= climate_data[['isin', 'year','cc_expo_ew', 'op_expo_ew','rg_expo_ew','ph_expo_ew']]\n",
    "\n",
    "# Merge the data \n",
    "merged_data = pd.merge(esg_data, climate_data, on=['isin', 'year'], how='inner' )"
   ]
  },
  {
   "cell_type": "code",
   "execution_count": 8,
   "id": "0e159e6b-0d9c-4adc-9b4c-35f4794a6364",
   "metadata": {},
   "outputs": [
    {
     "data": {
      "text/html": [
       "<div>\n",
       "<style scoped>\n",
       "    .dataframe tbody tr th:only-of-type {\n",
       "        vertical-align: middle;\n",
       "    }\n",
       "\n",
       "    .dataframe tbody tr th {\n",
       "        vertical-align: top;\n",
       "    }\n",
       "\n",
       "    .dataframe thead th {\n",
       "        text-align: right;\n",
       "    }\n",
       "</style>\n",
       "<table border=\"1\" class=\"dataframe\">\n",
       "  <thead>\n",
       "    <tr style=\"text-align: right;\">\n",
       "      <th></th>\n",
       "      <th>isin</th>\n",
       "      <th>year</th>\n",
       "      <th>ticker</th>\n",
       "      <th>fieldname</th>\n",
       "      <th>valuedate</th>\n",
       "      <th>value</th>\n",
       "      <th>valuescore</th>\n",
       "    </tr>\n",
       "  </thead>\n",
       "  <tbody>\n",
       "    <tr>\n",
       "      <th>80336</th>\n",
       "      <td>US2547091080</td>\n",
       "      <td>2022</td>\n",
       "      <td>DFS</td>\n",
       "      <td>ESGScore</td>\n",
       "      <td>2024-02-03</td>\n",
       "      <td>B</td>\n",
       "      <td>0.598440</td>\n",
       "    </tr>\n",
       "    <tr>\n",
       "      <th>80337</th>\n",
       "      <td>US2547091080</td>\n",
       "      <td>2022</td>\n",
       "      <td>DFS</td>\n",
       "      <td>ESGCombinedScore</td>\n",
       "      <td>2024-02-03</td>\n",
       "      <td>C</td>\n",
       "      <td>0.366407</td>\n",
       "    </tr>\n",
       "    <tr>\n",
       "      <th>80338</th>\n",
       "      <td>US2547091080</td>\n",
       "      <td>2022</td>\n",
       "      <td>DFS</td>\n",
       "      <td>ESGCControversiesScore</td>\n",
       "      <td>2024-02-03</td>\n",
       "      <td>D</td>\n",
       "      <td>0.134375</td>\n",
       "    </tr>\n",
       "    <tr>\n",
       "      <th>80339</th>\n",
       "      <td>US2547091080</td>\n",
       "      <td>2022</td>\n",
       "      <td>DFS</td>\n",
       "      <td>EnvironmentPillarScore</td>\n",
       "      <td>2024-02-03</td>\n",
       "      <td>D+</td>\n",
       "      <td>0.219566</td>\n",
       "    </tr>\n",
       "    <tr>\n",
       "      <th>80340</th>\n",
       "      <td>US2547091080</td>\n",
       "      <td>2022</td>\n",
       "      <td>DFS</td>\n",
       "      <td>GovernancePillarScore</td>\n",
       "      <td>2024-02-03</td>\n",
       "      <td>A-</td>\n",
       "      <td>0.761439</td>\n",
       "    </tr>\n",
       "  </tbody>\n",
       "</table>\n",
       "</div>"
      ],
      "text/plain": [
       "               isin  year ticker               fieldname  valuedate value  \\\n",
       "80336  US2547091080  2022    DFS                ESGScore 2024-02-03     B   \n",
       "80337  US2547091080  2022    DFS        ESGCombinedScore 2024-02-03     C   \n",
       "80338  US2547091080  2022    DFS  ESGCControversiesScore 2024-02-03     D   \n",
       "80339  US2547091080  2022    DFS  EnvironmentPillarScore 2024-02-03    D+   \n",
       "80340  US2547091080  2022    DFS   GovernancePillarScore 2024-02-03    A-   \n",
       "\n",
       "       valuescore  \n",
       "80336    0.598440  \n",
       "80337    0.366407  \n",
       "80338    0.134375  \n",
       "80339    0.219566  \n",
       "80340    0.761439  "
      ]
     },
     "execution_count": 8,
     "metadata": {},
     "output_type": "execute_result"
    }
   ],
   "source": [
    "esg_data.head()"
   ]
  },
  {
   "cell_type": "code",
   "execution_count": 9,
   "id": "63dadae4-f508-4f0b-a064-ea38fb23f019",
   "metadata": {},
   "outputs": [
    {
     "data": {
      "text/html": [
       "<div>\n",
       "<style scoped>\n",
       "    .dataframe tbody tr th:only-of-type {\n",
       "        vertical-align: middle;\n",
       "    }\n",
       "\n",
       "    .dataframe tbody tr th {\n",
       "        vertical-align: top;\n",
       "    }\n",
       "\n",
       "    .dataframe thead th {\n",
       "        text-align: right;\n",
       "    }\n",
       "</style>\n",
       "<table border=\"1\" class=\"dataframe\">\n",
       "  <thead>\n",
       "    <tr style=\"text-align: right;\">\n",
       "      <th></th>\n",
       "      <th>isin</th>\n",
       "      <th>year</th>\n",
       "      <th>cc_expo_ew</th>\n",
       "      <th>op_expo_ew</th>\n",
       "      <th>rg_expo_ew</th>\n",
       "      <th>ph_expo_ew</th>\n",
       "    </tr>\n",
       "  </thead>\n",
       "  <tbody>\n",
       "    <tr>\n",
       "      <th>0</th>\n",
       "      <td>AEA002001013</td>\n",
       "      <td>2016</td>\n",
       "      <td>0.000322</td>\n",
       "      <td>0.000322</td>\n",
       "      <td>0.0</td>\n",
       "      <td>0.0</td>\n",
       "    </tr>\n",
       "    <tr>\n",
       "      <th>1</th>\n",
       "      <td>AEA002001013</td>\n",
       "      <td>2017</td>\n",
       "      <td>0.000221</td>\n",
       "      <td>0.000000</td>\n",
       "      <td>0.0</td>\n",
       "      <td>0.0</td>\n",
       "    </tr>\n",
       "    <tr>\n",
       "      <th>2</th>\n",
       "      <td>AEA002001013</td>\n",
       "      <td>2018</td>\n",
       "      <td>0.000093</td>\n",
       "      <td>0.000000</td>\n",
       "      <td>0.0</td>\n",
       "      <td>0.0</td>\n",
       "    </tr>\n",
       "    <tr>\n",
       "      <th>3</th>\n",
       "      <td>AEA002001013</td>\n",
       "      <td>2019</td>\n",
       "      <td>0.000166</td>\n",
       "      <td>0.000000</td>\n",
       "      <td>0.0</td>\n",
       "      <td>0.0</td>\n",
       "    </tr>\n",
       "    <tr>\n",
       "      <th>4</th>\n",
       "      <td>AEA002001013</td>\n",
       "      <td>2020</td>\n",
       "      <td>0.000655</td>\n",
       "      <td>0.000289</td>\n",
       "      <td>0.0</td>\n",
       "      <td>0.0</td>\n",
       "    </tr>\n",
       "  </tbody>\n",
       "</table>\n",
       "</div>"
      ],
      "text/plain": [
       "           isin  year  cc_expo_ew  op_expo_ew  rg_expo_ew  ph_expo_ew\n",
       "0  AEA002001013  2016    0.000322    0.000322         0.0         0.0\n",
       "1  AEA002001013  2017    0.000221    0.000000         0.0         0.0\n",
       "2  AEA002001013  2018    0.000093    0.000000         0.0         0.0\n",
       "3  AEA002001013  2019    0.000166    0.000000         0.0         0.0\n",
       "4  AEA002001013  2020    0.000655    0.000289         0.0         0.0"
      ]
     },
     "execution_count": 9,
     "metadata": {},
     "output_type": "execute_result"
    }
   ],
   "source": [
    "climate_data.head()"
   ]
  },
  {
   "cell_type": "code",
   "execution_count": 10,
   "id": "5aa9d07a-cce9-498b-886b-91f8cc96ae9a",
   "metadata": {},
   "outputs": [
    {
     "data": {
      "text/html": [
       "<div>\n",
       "<style scoped>\n",
       "    .dataframe tbody tr th:only-of-type {\n",
       "        vertical-align: middle;\n",
       "    }\n",
       "\n",
       "    .dataframe tbody tr th {\n",
       "        vertical-align: top;\n",
       "    }\n",
       "\n",
       "    .dataframe thead th {\n",
       "        text-align: right;\n",
       "    }\n",
       "</style>\n",
       "<table border=\"1\" class=\"dataframe\">\n",
       "  <thead>\n",
       "    <tr style=\"text-align: right;\">\n",
       "      <th></th>\n",
       "      <th>isin</th>\n",
       "      <th>year</th>\n",
       "      <th>ticker</th>\n",
       "      <th>fieldname</th>\n",
       "      <th>valuedate</th>\n",
       "      <th>value</th>\n",
       "      <th>valuescore</th>\n",
       "      <th>cc_expo_ew</th>\n",
       "      <th>op_expo_ew</th>\n",
       "      <th>rg_expo_ew</th>\n",
       "      <th>ph_expo_ew</th>\n",
       "    </tr>\n",
       "  </thead>\n",
       "  <tbody>\n",
       "    <tr>\n",
       "      <th>0</th>\n",
       "      <td>US2547091080</td>\n",
       "      <td>2022</td>\n",
       "      <td>DFS</td>\n",
       "      <td>ESGScore</td>\n",
       "      <td>2024-02-03</td>\n",
       "      <td>B</td>\n",
       "      <td>0.598440</td>\n",
       "      <td>0.000351</td>\n",
       "      <td>0.0</td>\n",
       "      <td>0.000174</td>\n",
       "      <td>0.0</td>\n",
       "    </tr>\n",
       "    <tr>\n",
       "      <th>1</th>\n",
       "      <td>US2547091080</td>\n",
       "      <td>2022</td>\n",
       "      <td>DFS</td>\n",
       "      <td>ESGCombinedScore</td>\n",
       "      <td>2024-02-03</td>\n",
       "      <td>C</td>\n",
       "      <td>0.366407</td>\n",
       "      <td>0.000351</td>\n",
       "      <td>0.0</td>\n",
       "      <td>0.000174</td>\n",
       "      <td>0.0</td>\n",
       "    </tr>\n",
       "    <tr>\n",
       "      <th>2</th>\n",
       "      <td>US2547091080</td>\n",
       "      <td>2022</td>\n",
       "      <td>DFS</td>\n",
       "      <td>ESGCControversiesScore</td>\n",
       "      <td>2024-02-03</td>\n",
       "      <td>D</td>\n",
       "      <td>0.134375</td>\n",
       "      <td>0.000351</td>\n",
       "      <td>0.0</td>\n",
       "      <td>0.000174</td>\n",
       "      <td>0.0</td>\n",
       "    </tr>\n",
       "    <tr>\n",
       "      <th>3</th>\n",
       "      <td>US2547091080</td>\n",
       "      <td>2022</td>\n",
       "      <td>DFS</td>\n",
       "      <td>EnvironmentPillarScore</td>\n",
       "      <td>2024-02-03</td>\n",
       "      <td>D+</td>\n",
       "      <td>0.219566</td>\n",
       "      <td>0.000351</td>\n",
       "      <td>0.0</td>\n",
       "      <td>0.000174</td>\n",
       "      <td>0.0</td>\n",
       "    </tr>\n",
       "    <tr>\n",
       "      <th>4</th>\n",
       "      <td>US2547091080</td>\n",
       "      <td>2022</td>\n",
       "      <td>DFS</td>\n",
       "      <td>GovernancePillarScore</td>\n",
       "      <td>2024-02-03</td>\n",
       "      <td>A-</td>\n",
       "      <td>0.761439</td>\n",
       "      <td>0.000351</td>\n",
       "      <td>0.0</td>\n",
       "      <td>0.000174</td>\n",
       "      <td>0.0</td>\n",
       "    </tr>\n",
       "  </tbody>\n",
       "</table>\n",
       "</div>"
      ],
      "text/plain": [
       "           isin  year ticker               fieldname  valuedate value  \\\n",
       "0  US2547091080  2022    DFS                ESGScore 2024-02-03     B   \n",
       "1  US2547091080  2022    DFS        ESGCombinedScore 2024-02-03     C   \n",
       "2  US2547091080  2022    DFS  ESGCControversiesScore 2024-02-03     D   \n",
       "3  US2547091080  2022    DFS  EnvironmentPillarScore 2024-02-03    D+   \n",
       "4  US2547091080  2022    DFS   GovernancePillarScore 2024-02-03    A-   \n",
       "\n",
       "   valuescore  cc_expo_ew  op_expo_ew  rg_expo_ew  ph_expo_ew  \n",
       "0    0.598440    0.000351         0.0    0.000174         0.0  \n",
       "1    0.366407    0.000351         0.0    0.000174         0.0  \n",
       "2    0.134375    0.000351         0.0    0.000174         0.0  \n",
       "3    0.219566    0.000351         0.0    0.000174         0.0  \n",
       "4    0.761439    0.000351         0.0    0.000174         0.0  "
      ]
     },
     "execution_count": 10,
     "metadata": {},
     "output_type": "execute_result"
    }
   ],
   "source": [
    "merged_data.head()"
   ]
  },
  {
   "cell_type": "markdown",
   "id": "8ceee03b-ad08-495b-9b9f-8ca0b45a25a9",
   "metadata": {},
   "source": [
    "### Table 2 part A"
   ]
  },
  {
   "cell_type": "code",
   "execution_count": 11,
   "id": "20987734-6a4e-4fbd-8e29-c6c03e151c4d",
   "metadata": {},
   "outputs": [
    {
     "data": {
      "text/html": [
       "<div>\n",
       "<style scoped>\n",
       "    .dataframe tbody tr th:only-of-type {\n",
       "        vertical-align: middle;\n",
       "    }\n",
       "\n",
       "    .dataframe tbody tr th {\n",
       "        vertical-align: top;\n",
       "    }\n",
       "\n",
       "    .dataframe thead th {\n",
       "        text-align: right;\n",
       "    }\n",
       "</style>\n",
       "<table border=\"1\" class=\"dataframe\">\n",
       "  <thead>\n",
       "    <tr style=\"text-align: right;\">\n",
       "      <th>fieldname</th>\n",
       "      <th>ESGCControversiesScore</th>\n",
       "      <th>ESGCombinedScore</th>\n",
       "      <th>ESGScore</th>\n",
       "      <th>EnvironmentPillarScore</th>\n",
       "      <th>GovernancePillarScore</th>\n",
       "      <th>SocialPillarScore</th>\n",
       "    </tr>\n",
       "    <tr>\n",
       "      <th>ticker</th>\n",
       "      <th></th>\n",
       "      <th></th>\n",
       "      <th></th>\n",
       "      <th></th>\n",
       "      <th></th>\n",
       "      <th></th>\n",
       "    </tr>\n",
       "  </thead>\n",
       "  <tbody>\n",
       "    <tr>\n",
       "      <th>DFS</th>\n",
       "      <td>0.567187</td>\n",
       "      <td>0.482991</td>\n",
       "      <td>0.599007</td>\n",
       "      <td>0.351183</td>\n",
       "      <td>0.715949</td>\n",
       "      <td>0.623019</td>\n",
       "    </tr>\n",
       "    <tr>\n",
       "      <th>GILD</th>\n",
       "      <td>0.349315</td>\n",
       "      <td>0.584598</td>\n",
       "      <td>0.819880</td>\n",
       "      <td>0.709395</td>\n",
       "      <td>0.824450</td>\n",
       "      <td>0.871038</td>\n",
       "    </tr>\n",
       "    <tr>\n",
       "      <th>GIS</th>\n",
       "      <td>0.287671</td>\n",
       "      <td>0.538478</td>\n",
       "      <td>0.789285</td>\n",
       "      <td>0.881148</td>\n",
       "      <td>0.449553</td>\n",
       "      <td>0.927429</td>\n",
       "    </tr>\n",
       "  </tbody>\n",
       "</table>\n",
       "</div>"
      ],
      "text/plain": [
       "fieldname  ESGCControversiesScore  ESGCombinedScore  ESGScore  \\\n",
       "ticker                                                          \n",
       "DFS                      0.567187          0.482991  0.599007   \n",
       "GILD                     0.349315          0.584598  0.819880   \n",
       "GIS                      0.287671          0.538478  0.789285   \n",
       "\n",
       "fieldname  EnvironmentPillarScore  GovernancePillarScore  SocialPillarScore  \n",
       "ticker                                                                       \n",
       "DFS                      0.351183               0.715949           0.623019  \n",
       "GILD                     0.709395               0.824450           0.871038  \n",
       "GIS                      0.881148               0.449553           0.927429  "
      ]
     },
     "execution_count": 11,
     "metadata": {},
     "output_type": "execute_result"
    }
   ],
   "source": [
    "filts= ['ESGCombinedScore',\n",
    "    'ESGCControversiesScore',\n",
    "'ESGScore',\n",
    "'EnvironmentPillarScore',\n",
    "'GovernancePillarScore',\n",
    "'SocialPillarScore',\n",
    "'IndustryverageESGscore']\n",
    "\n",
    "filt_merge= merged_data[merged_data['fieldname'].isin(filts)]\n",
    "df=filt_merge.groupby(['ticker', 'fieldname'])['valuescore'].mean().reset_index()\n",
    "df=df.pivot(index='ticker', columns='fieldname', values='valuescore')\n",
    "df"
   ]
  },
  {
   "cell_type": "code",
   "execution_count": 12,
   "id": "78218a03-ce3d-4408-878a-644fa6e25927",
   "metadata": {},
   "outputs": [
    {
     "data": {
      "text/plain": [
       "ticker\n",
       "DFS     0.556556\n",
       "GILD    0.693113\n",
       "GIS     0.645594\n",
       "Name: valuescore, dtype: float64"
      ]
     },
     "execution_count": 12,
     "metadata": {},
     "output_type": "execute_result"
    }
   ],
   "source": [
    "esg_score=filt_merge.groupby(['ticker', 'fieldname'])['valuescore'].mean().groupby(['ticker']).mean()\n",
    "esg_score"
   ]
  },
  {
   "cell_type": "markdown",
   "id": "33a04690-acf7-4f82-89d6-0ad8ab6e250f",
   "metadata": {},
   "source": [
    "### Table 2 part b"
   ]
  },
  {
   "cell_type": "code",
   "execution_count": 13,
   "id": "cc971f1a-b3be-40b7-8cef-b31e8a783fa0",
   "metadata": {},
   "outputs": [
    {
     "data": {
      "text/html": [
       "<div>\n",
       "<style scoped>\n",
       "    .dataframe tbody tr th:only-of-type {\n",
       "        vertical-align: middle;\n",
       "    }\n",
       "\n",
       "    .dataframe tbody tr th {\n",
       "        vertical-align: top;\n",
       "    }\n",
       "\n",
       "    .dataframe thead th {\n",
       "        text-align: right;\n",
       "    }\n",
       "</style>\n",
       "<table border=\"1\" class=\"dataframe\">\n",
       "  <thead>\n",
       "    <tr style=\"text-align: right;\">\n",
       "      <th>variable</th>\n",
       "      <th>cc_expo_ew</th>\n",
       "      <th>op_expo_ew</th>\n",
       "      <th>ph_expo_ew</th>\n",
       "      <th>rg_expo_ew</th>\n",
       "    </tr>\n",
       "    <tr>\n",
       "      <th>ticker</th>\n",
       "      <th></th>\n",
       "      <th></th>\n",
       "      <th></th>\n",
       "      <th></th>\n",
       "    </tr>\n",
       "  </thead>\n",
       "  <tbody>\n",
       "    <tr>\n",
       "      <th>DFS</th>\n",
       "      <td>0.000377</td>\n",
       "      <td>0.000084</td>\n",
       "      <td>0.0</td>\n",
       "      <td>0.000162</td>\n",
       "    </tr>\n",
       "    <tr>\n",
       "      <th>GILD</th>\n",
       "      <td>0.000127</td>\n",
       "      <td>0.000000</td>\n",
       "      <td>0.0</td>\n",
       "      <td>0.000000</td>\n",
       "    </tr>\n",
       "    <tr>\n",
       "      <th>GIS</th>\n",
       "      <td>0.000322</td>\n",
       "      <td>0.000000</td>\n",
       "      <td>0.0</td>\n",
       "      <td>0.000151</td>\n",
       "    </tr>\n",
       "  </tbody>\n",
       "</table>\n",
       "</div>"
      ],
      "text/plain": [
       "variable  cc_expo_ew  op_expo_ew  ph_expo_ew  rg_expo_ew\n",
       "ticker                                                  \n",
       "DFS         0.000377    0.000084         0.0    0.000162\n",
       "GILD        0.000127    0.000000         0.0    0.000000\n",
       "GIS         0.000322    0.000000         0.0    0.000151"
      ]
     },
     "execution_count": 13,
     "metadata": {},
     "output_type": "execute_result"
    }
   ],
   "source": [
    "melt_data= merged_data[['isin','ticker',\n",
    "                       'cc_expo_ew','op_expo_ew',\n",
    "                        'rg_expo_ew','ph_expo_ew']]\t\n",
    "melt_data= pd.melt(melt_data, id_vars='ticker', value_vars=['cc_expo_ew',\n",
    "                                               'op_expo_ew',\n",
    "                                               'rg_expo_ew',\n",
    "                                               'ph_expo_ew'])\n",
    "df2=melt_data.groupby(['ticker', 'variable'])['value'].mean().reset_index().pivot(index='ticker', columns='variable', values='value')\n",
    "df2"
   ]
  },
  {
   "cell_type": "markdown",
   "id": "1d117c71-6cff-4bd3-b951-e9415bc44d23",
   "metadata": {},
   "source": [
    "# Part 3"
   ]
  },
  {
   "cell_type": "code",
   "execution_count": 14,
   "id": "fcbae485-97fb-4457-ab13-52894e64e065",
   "metadata": {},
   "outputs": [],
   "source": [
    "# Calculate the annualized returns and the covariance matrix\n",
    "data.drop(['^GSPC'], axis=1, inplace=True)\n",
    "# returns = data.pct_change().dropna()\n",
    "# annual_returns = returns.mean() * 252\n",
    "# var_cov_matrix = returns.cov() * 252"
   ]
  },
  {
   "cell_type": "markdown",
   "id": "0b2da802-c281-4c5f-a22c-fae1f14f0111",
   "metadata": {},
   "source": [
    "## Table 3"
   ]
  },
  {
   "cell_type": "code",
   "execution_count": 15,
   "id": "70e03d29-26b4-46e8-994d-79165063ac6d",
   "metadata": {},
   "outputs": [],
   "source": [
    "\n",
    "# Calculate the annualized returns and the covariance matrix\n",
    "returns = data.pct_change().dropna()\n",
    "r= returns.mean() * 252\n",
    "covar= returns.cov() * 252"
   ]
  },
  {
   "cell_type": "code",
   "execution_count": 16,
   "id": "1d6c31b0-ceac-4098-8f2d-c88af157ac37",
   "metadata": {},
   "outputs": [
    {
     "data": {
      "text/html": [
       "<div>\n",
       "<style scoped>\n",
       "    .dataframe tbody tr th:only-of-type {\n",
       "        vertical-align: middle;\n",
       "    }\n",
       "\n",
       "    .dataframe tbody tr th {\n",
       "        vertical-align: top;\n",
       "    }\n",
       "\n",
       "    .dataframe thead th {\n",
       "        text-align: right;\n",
       "    }\n",
       "</style>\n",
       "<table border=\"1\" class=\"dataframe\">\n",
       "  <thead>\n",
       "    <tr style=\"text-align: right;\">\n",
       "      <th>Ticker</th>\n",
       "      <th>DFS</th>\n",
       "      <th>GILD</th>\n",
       "      <th>GIS</th>\n",
       "    </tr>\n",
       "    <tr>\n",
       "      <th>Ticker</th>\n",
       "      <th></th>\n",
       "      <th></th>\n",
       "      <th></th>\n",
       "    </tr>\n",
       "  </thead>\n",
       "  <tbody>\n",
       "    <tr>\n",
       "      <th>DFS</th>\n",
       "      <td>0.138688</td>\n",
       "      <td>0.023827</td>\n",
       "      <td>0.010116</td>\n",
       "    </tr>\n",
       "    <tr>\n",
       "      <th>GILD</th>\n",
       "      <td>0.023827</td>\n",
       "      <td>0.070799</td>\n",
       "      <td>0.014371</td>\n",
       "    </tr>\n",
       "    <tr>\n",
       "      <th>GIS</th>\n",
       "      <td>0.010116</td>\n",
       "      <td>0.014371</td>\n",
       "      <td>0.042607</td>\n",
       "    </tr>\n",
       "  </tbody>\n",
       "</table>\n",
       "</div>"
      ],
      "text/plain": [
       "Ticker       DFS      GILD       GIS\n",
       "Ticker                              \n",
       "DFS     0.138688  0.023827  0.010116\n",
       "GILD    0.023827  0.070799  0.014371\n",
       "GIS     0.010116  0.014371  0.042607"
      ]
     },
     "execution_count": 16,
     "metadata": {},
     "output_type": "execute_result"
    }
   ],
   "source": [
    "covar"
   ]
  },
  {
   "cell_type": "code",
   "execution_count": 17,
   "id": "6bce8414-6417-44fb-a7b9-43f92b8536c1",
   "metadata": {},
   "outputs": [],
   "source": [
    "def ret(r,w):\n",
    "    return r.dot(w)\n",
    "# Risk level - or volatility\n",
    "def vol(w,covar):\n",
    "    return np.sqrt(np.dot(w,np.dot(w,covar)))\n",
    "def sharpe (ret,vol):\n",
    "    return ret/vol"
   ]
  },
  {
   "cell_type": "code",
   "execution_count": null,
   "id": "e2ef4b28-82b3-4e69-9adc-a56889a0a285",
   "metadata": {},
   "outputs": [],
   "source": []
  },
  {
   "cell_type": "code",
   "execution_count": 18,
   "id": "9e86f485-a435-4367-bbf0-603b6128f2ea",
   "metadata": {},
   "outputs": [
    {
     "name": "stdout",
     "output_type": "stream",
     "text": [
      "Optimal Weights:\n",
      "[0.13 0.27 0.6 ]\n",
      "Return: 9.05% Risk: 0.175\n"
     ]
    }
   ],
   "source": [
    "\n",
    "from scipy.optimize import minimize, LinearConstraint, Bounds\n",
    "\n",
    "num_assets = data.shape[1]\n",
    "\n",
    "# All weights must be between 0 and 1, so set 0 and 1 as the boundaries.\n",
    "bounds = Bounds(0, 1)\n",
    "\n",
    "# Set the constraint that the sum of weights equals 1.\n",
    "constraint_matrix = np.ones((1, num_assets))\n",
    "linear_constraint = LinearConstraint(constraint_matrix, [1], [1])\n",
    "\n",
    "# Find a portfolio with the minimum risk.\n",
    "# Create x0, the first guess at the values of each stock's weight.\n",
    "initial_weights = np.ones(num_assets) / num_assets\n",
    "\n",
    "# Define a function to calculate portfolio volatility (risk)\n",
    "def portfolio_volatility(weights):\n",
    "    return np.sqrt(np.dot(weights, np.dot(weights, covar)))\n",
    "\n",
    "# Minimize the risk function using the 'trust-constr' method with linear constraint and bounds.\n",
    "res = minimize(portfolio_volatility, initial_weights, method='trust-constr', constraints=linear_constraint, bounds=bounds)\n",
    "\n",
    "# These are the weights of the stocks in the portfolio with the lowest level of risk possible.\n",
    "w_min = res.x\n",
    "\n",
    "# Set print options to show weights and risk with 2 decimal places\n",
    "np.set_printoptions(suppress=True, precision=2)\n",
    "\n",
    "# Print the optimal weights and corresponding return and risk\n",
    "print(\"Optimal Weights:\")\n",
    "print(w_min)\n",
    "print(\"Return: %.2f%%\" % (ret(r, w_min) * 100), \"Risk: %.3f\" % portfolio_volatility(w_min))"
   ]
  },
  {
   "cell_type": "code",
   "execution_count": null,
   "id": "ab54fe64-9d82-49af-9adb-0851dde294d9",
   "metadata": {},
   "outputs": [],
   "source": []
  },
  {
   "cell_type": "code",
   "execution_count": 19,
   "id": "2715a886-db9b-456a-ab87-fc966b2502d1",
   "metadata": {},
   "outputs": [
    {
     "data": {
      "text/plain": [
       "0.5161795854607286"
      ]
     },
     "execution_count": 19,
     "metadata": {},
     "output_type": "execute_result"
    }
   ],
   "source": [
    "#sharpe ration\n",
    "sharpe(ret(r, w_min), portfolio_volatility(w_min) )"
   ]
  },
  {
   "cell_type": "code",
   "execution_count": null,
   "id": "eae60db6-bea1-46a3-af11-62591c623f13",
   "metadata": {},
   "outputs": [],
   "source": []
  },
  {
   "cell_type": "code",
   "execution_count": 20,
   "id": "4d7bfc63-d814-412c-bc8e-bf7bb65446fd",
   "metadata": {},
   "outputs": [
    {
     "name": "stdout",
     "output_type": "stream",
     "text": [
      "Optimal Weights (Highest Sharpe Ratio):\n",
      "[0.34 0.13 0.54]\n",
      "Return: 10.86% Risk: 0.192\n"
     ]
    }
   ],
   "source": [
    "# Create x0, the first guess at the values of each stock's weight.\n",
    "initial_weights = np.ones(num_assets) / num_assets\n",
    "\n",
    "# Define the function to calculate the Sharpe ratio (1/volatility)\n",
    "def sharpe_ratio(weights):\n",
    "    portfolio_volatility = np.sqrt(np.dot(weights, np.dot(weights, covar)))\n",
    "    portfolio_return = np.dot(r, weights)\n",
    "    return -portfolio_return / portfolio_volatility  # negative value for minimization\n",
    "\n",
    "# Minimize the negative Sharpe ratio (to maximize Sharpe ratio) using 'trust-constr' method with constraints and bounds.\n",
    "res_sharpe = minimize(sharpe_ratio, initial_weights, method='trust-constr', constraints=linear_constraint, bounds=bounds)\n",
    "\n",
    "# These are the weights of the stocks in the portfolio with the highest Sharpe ratio.\n",
    "w_sharpe = res_sharpe.x\n",
    "\n",
    "# Set print options to show weights, return, and risk with 2 decimal places\n",
    "np.set_printoptions(suppress=True, precision=2)\n",
    "\n",
    "# Print the optimal weights and corresponding return and risk\n",
    "print(\"Optimal Weights (Highest Sharpe Ratio):\")\n",
    "print(w_sharpe)\n",
    "print(\"Return: %.2f%%\" % (np.dot(r, w_sharpe) * 100), \"Risk: %.3f\" % np.sqrt(np.dot(w_sharpe, np.dot(w_sharpe, covar))))"
   ]
  },
  {
   "cell_type": "code",
   "execution_count": 21,
   "id": "9ce67621-16d4-40b6-a2a5-6fc139876658",
   "metadata": {},
   "outputs": [
    {
     "data": {
      "text/plain": [
       "0.5653754541176691"
      ]
     },
     "execution_count": 21,
     "metadata": {},
     "output_type": "execute_result"
    }
   ],
   "source": [
    "#sharpe ratio\n",
    "sharpe(np.dot(r, w_sharpe),np.sqrt(np.dot(w_sharpe, np.dot(w_sharpe, covar))))"
   ]
  },
  {
   "cell_type": "code",
   "execution_count": 22,
   "id": "17e1505a-a6f3-4896-a0fc-34c555c484f8",
   "metadata": {},
   "outputs": [
    {
     "data": {
      "text/plain": [
       "0.03074987491090183"
      ]
     },
     "execution_count": 22,
     "metadata": {},
     "output_type": "execute_result"
    }
   ],
   "source": [
    "\n",
    "covariance_min_var_efficient = np.dot(w_min.T, np.dot(covar, w_sharpe))\n",
    "covariance_min_var_efficient"
   ]
  },
  {
   "cell_type": "markdown",
   "id": "09d36cc2-d524-4644-8a6d-47ac861e3a23",
   "metadata": {},
   "source": [
    "## Table 5"
   ]
  },
  {
   "cell_type": "code",
   "execution_count": 23,
   "id": "21864511-2862-408e-b853-6e0da98dce1c",
   "metadata": {},
   "outputs": [],
   "source": [
    "def calculate_portfolio_variance(weights, cov_matrix):\n",
    "    portfolio_variance = np.dot(weights.T, np.dot(cov_matrix, weights))\n",
    "    return portfolio_variance"
   ]
  },
  {
   "cell_type": "code",
   "execution_count": null,
   "id": "154191dd-a577-4fbf-8f11-eb665e660c93",
   "metadata": {},
   "outputs": [],
   "source": []
  },
  {
   "cell_type": "code",
   "execution_count": 24,
   "id": "325fc3c8-70bc-4dd8-9442-2eba8f08c720",
   "metadata": {},
   "outputs": [
    {
     "data": {
      "text/html": [
       "<div>\n",
       "<style scoped>\n",
       "    .dataframe tbody tr th:only-of-type {\n",
       "        vertical-align: middle;\n",
       "    }\n",
       "\n",
       "    .dataframe tbody tr th {\n",
       "        vertical-align: top;\n",
       "    }\n",
       "\n",
       "    .dataframe thead th {\n",
       "        text-align: right;\n",
       "    }\n",
       "</style>\n",
       "<table border=\"1\" class=\"dataframe\">\n",
       "  <thead>\n",
       "    <tr style=\"text-align: right;\">\n",
       "      <th></th>\n",
       "      <th>Weights</th>\n",
       "      <th>Portfolio_Std</th>\n",
       "      <th>Portfolio_Return</th>\n",
       "      <th>Portfolio_Sharpe</th>\n",
       "      <th>Portfolio_Esg_Score</th>\n",
       "    </tr>\n",
       "  </thead>\n",
       "  <tbody>\n",
       "    <tr>\n",
       "      <th>0</th>\n",
       "      <td>0.0</td>\n",
       "      <td>0.1921</td>\n",
       "      <td>0.1086</td>\n",
       "      <td>0.5654</td>\n",
       "      <td>0.6214</td>\n",
       "    </tr>\n",
       "    <tr>\n",
       "      <th>1</th>\n",
       "      <td>0.1</td>\n",
       "      <td>0.1737</td>\n",
       "      <td>0.1068</td>\n",
       "      <td>0.6146</td>\n",
       "      <td>0.6239</td>\n",
       "    </tr>\n",
       "    <tr>\n",
       "      <th>2</th>\n",
       "      <td>0.2</td>\n",
       "      <td>0.1576</td>\n",
       "      <td>0.1050</td>\n",
       "      <td>0.6661</td>\n",
       "      <td>0.6264</td>\n",
       "    </tr>\n",
       "    <tr>\n",
       "      <th>3</th>\n",
       "      <td>0.3</td>\n",
       "      <td>0.1444</td>\n",
       "      <td>0.1032</td>\n",
       "      <td>0.7146</td>\n",
       "      <td>0.6290</td>\n",
       "    </tr>\n",
       "    <tr>\n",
       "      <th>4</th>\n",
       "      <td>0.4</td>\n",
       "      <td>0.1349</td>\n",
       "      <td>0.1014</td>\n",
       "      <td>0.7513</td>\n",
       "      <td>0.6315</td>\n",
       "    </tr>\n",
       "    <tr>\n",
       "      <th>5</th>\n",
       "      <td>0.5</td>\n",
       "      <td>0.1300</td>\n",
       "      <td>0.0996</td>\n",
       "      <td>0.7656</td>\n",
       "      <td>0.6340</td>\n",
       "    </tr>\n",
       "    <tr>\n",
       "      <th>6</th>\n",
       "      <td>0.6</td>\n",
       "      <td>0.1303</td>\n",
       "      <td>0.0977</td>\n",
       "      <td>0.7503</td>\n",
       "      <td>0.6365</td>\n",
       "    </tr>\n",
       "    <tr>\n",
       "      <th>7</th>\n",
       "      <td>0.7</td>\n",
       "      <td>0.1356</td>\n",
       "      <td>0.0959</td>\n",
       "      <td>0.7075</td>\n",
       "      <td>0.6390</td>\n",
       "    </tr>\n",
       "    <tr>\n",
       "      <th>8</th>\n",
       "      <td>0.8</td>\n",
       "      <td>0.1454</td>\n",
       "      <td>0.0941</td>\n",
       "      <td>0.6472</td>\n",
       "      <td>0.6416</td>\n",
       "    </tr>\n",
       "    <tr>\n",
       "      <th>9</th>\n",
       "      <td>0.9</td>\n",
       "      <td>0.1590</td>\n",
       "      <td>0.0923</td>\n",
       "      <td>0.5807</td>\n",
       "      <td>0.6441</td>\n",
       "    </tr>\n",
       "    <tr>\n",
       "      <th>10</th>\n",
       "      <td>1.0</td>\n",
       "      <td>0.1754</td>\n",
       "      <td>0.0905</td>\n",
       "      <td>0.5162</td>\n",
       "      <td>0.6466</td>\n",
       "    </tr>\n",
       "  </tbody>\n",
       "</table>\n",
       "</div>"
      ],
      "text/plain": [
       "    Weights  Portfolio_Std  Portfolio_Return  Portfolio_Sharpe  \\\n",
       "0       0.0         0.1921            0.1086            0.5654   \n",
       "1       0.1         0.1737            0.1068            0.6146   \n",
       "2       0.2         0.1576            0.1050            0.6661   \n",
       "3       0.3         0.1444            0.1032            0.7146   \n",
       "4       0.4         0.1349            0.1014            0.7513   \n",
       "5       0.5         0.1300            0.0996            0.7656   \n",
       "6       0.6         0.1303            0.0977            0.7503   \n",
       "7       0.7         0.1356            0.0959            0.7075   \n",
       "8       0.8         0.1454            0.0941            0.6472   \n",
       "9       0.9         0.1590            0.0923            0.5807   \n",
       "10      1.0         0.1754            0.0905            0.5162   \n",
       "\n",
       "    Portfolio_Esg_Score  \n",
       "0                0.6214  \n",
       "1                0.6239  \n",
       "2                0.6264  \n",
       "3                0.6290  \n",
       "4                0.6315  \n",
       "5                0.6340  \n",
       "6                0.6365  \n",
       "7                0.6390  \n",
       "8                0.6416  \n",
       "9                0.6441  \n",
       "10               0.6466  "
      ]
     },
     "execution_count": 24,
     "metadata": {},
     "output_type": "execute_result"
    }
   ],
   "source": [
    "# 7. Calculate the portfolio SD and return of a portfolio of the min var weights\n",
    "weights_combinations = np.linspace(0, 1, 11)\n",
    "portfolio_returns = []\n",
    "portfolio_std = []\n",
    "portfolio_esg_score=[]\n",
    "portfolio_sharpe=[]\n",
    "for w in weights_combinations:\n",
    "    portfolio_returns.append(w * r @ w_min + (1 - w) *r@ w_sharpe)  # Missing operator fixed\n",
    "    vol= np.sqrt(w**2 * calculate_portfolio_variance(w_min, covar) + (1-w)**2 * calculate_portfolio_variance(w_sharpe,covar))\n",
    "    portfolio_std.append(vol)  # Function call added\n",
    "    portfolio_esg_score.append(w * esg_score @ w_min + (1 - w) *esg_score@ w_sharpe)\n",
    "    portfolio_sharpe.append(sharpe((w * r @ w_min + (1 - w) *r@ w_sharpe),vol))\n",
    "    \n",
    "    \n",
    "    \n",
    "portfolio_table = pd.DataFrame({\n",
    "  'Weights': weights_combinations,\n",
    "    'Portfolio_Std': portfolio_std,\n",
    "  'Portfolio_Return': portfolio_returns,\n",
    "    'Portfolio_Sharpe': portfolio_sharpe,\n",
    "  \n",
    "    'Portfolio_Esg_Score': portfolio_esg_score\n",
    "    \n",
    "})\n",
    "\n",
    "round(portfolio_table,4)"
   ]
  },
  {
   "cell_type": "code",
   "execution_count": null,
   "id": "9fd20b02-704b-4f88-83c9-53a288139245",
   "metadata": {},
   "outputs": [],
   "source": []
  },
  {
   "cell_type": "code",
   "execution_count": 25,
   "id": "53d0a872-d9f3-45c0-bd4e-f8950e838f63",
   "metadata": {},
   "outputs": [
    {
     "data": {
      "image/png": "[encoded data removed]",
      "text/plain": [
       "<Figure size 800x600 with 1 Axes>"
      ]
     },
     "metadata": {},
     "output_type": "display_data"
    }
   ],
   "source": [
    "# Plotting the portfolio frontier\n",
    "plt.figure(figsize=(8, 6))\n",
    "plt.scatter(portfolio_table['Portfolio_Std'], portfolio_table['Portfolio_Return'])\n",
    "plt.title('Efficient Frontier Returns')\n",
    "plt.xlabel('Portfolio Standard Deviation')\n",
    "plt.ylabel('Expected Portfolio Return')\n",
    "plt.grid(True)\n",
    "plt.show()"
   ]
  },
  {
   "cell_type": "code",
   "execution_count": 26,
   "id": "2f258b10-dfce-42d0-8ea1-186b39685fb9",
   "metadata": {},
   "outputs": [
    {
     "data": {
      "image/png": "[encoded data removed]",
      "text/plain": [
       "<Figure size 800x600 with 1 Axes>"
      ]
     },
     "metadata": {},
     "output_type": "display_data"
    }
   ],
   "source": [
    "# Plotting the portfolio frontier\n",
    "plt.figure(figsize=(8, 6))\n",
    "plt.scatter(portfolio_table['Portfolio_Std'], portfolio_table['Portfolio_Esg_Score'])\n",
    "plt.title('Efficient Frontier ESG_SCORE')\n",
    "plt.xlabel('Portfolio Standard Deviation')\n",
    "plt.ylabel('Expected Portfolio ESG_SCORE')\n",
    "plt.grid(True)\n",
    "plt.show()"
   ]
  },
  {
   "cell_type": "code",
   "execution_count": null,
   "id": "80cccd3b-4e6d-4fe7-b56f-f00ff9ffba08",
   "metadata": {},
   "outputs": [],
   "source": []
  },
  {
   "cell_type": "code",
   "execution_count": null,
   "id": "1e94cc5b-db45-4b0c-b6ff-9161210d59dd",
   "metadata": {},
   "outputs": [],
   "source": []
  }
 ],
 "metadata": {
  "kernelspec": {
   "display_name": "Python 3 (ipykernel)",
   "language": "python",
   "name": "python3"
  },
  "language_info": {
   "codemirror_mode": {
    "name": "ipython",
    "version": 3
   },
   "file_extension": ".py",
   "mimetype": "text/x-python",
   "name": "python",
   "nbconvert_exporter": "python",
   "pygments_lexer": "ipython3",
   "version": "3.10.12"
  }
 },
 "nbformat": 4,
 "nbformat_minor": 5
}
